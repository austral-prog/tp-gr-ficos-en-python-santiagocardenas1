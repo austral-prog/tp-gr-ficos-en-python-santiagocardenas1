{
 "cells": [
  {
   "cell_type": "markdown",
   "id": "c981276f-435a-4c81-857e-a1868fc2a223",
   "metadata": {},
   "source": [
    "# Titulos de Lionel Messi"
   ]
  },
  {
   "cell_type": "code",
   "execution_count": 1,
   "id": "4632901d-5f42-4254-b694-61cee29c676a",
   "metadata": {},
   "outputs": [
    {
     "data": {
      "text/plain": [
       "[<matplotlib.lines.Line2D at 0x2a334972710>]"
      ]
     },
     "execution_count": 1,
     "metadata": {},
     "output_type": "execute_result"
    },
    {
     "data": {
      "image/png": "[encoded data removed]",
      "text/plain": [
       "<Figure size 640x480 with 1 Axes>"
      ]
     },
     "metadata": {},
     "output_type": "display_data"
    }
   ],
   "source": [
    "import matplotlib.pyplot as plt\n",
    "plt.title(\"Titulos de Lionel Messi\")\n",
    "plt.xlabel(\"Titulos de Messi\")\n",
    "plt.ylabel(\"Años en que gano\")\n",
    "plt.grid(True)\n",
    "plt.legend(['Data Series'])\n",
    "plt.plot([5,8,12,15], [2000,2010,2020,2025], 'g-+')"
   ]
  },
  {
   "cell_type": "markdown",
   "id": "472603fc-e8da-493e-98c5-f47e2a43fee7",
   "metadata": {},
   "source": [
    "### Títulos de Lionel Messi a lo largo del tiempo"
   ]
  },
  {
   "cell_type": "markdown",
   "id": "9adda822-9d6a-4ab6-b76a-73e35054b69a",
   "metadata": {},
   "source": [
    "Este gráfico de líneas muestra la cantidad de títulos que Messi ganó en diferentes años.\n",
    "Se eligió este tipo de visualización porque permite ver la progresión y el ritmo de sus logros a lo largo del tiempo"
   ]
  },
  {
   "cell_type": "markdown",
   "id": "251a568e-64c8-4a80-9610-67dd1a08b90c",
   "metadata": {},
   "source": [
    "# Titulos de Lionel Messi"
   ]
  },
  {
   "cell_type": "code",
   "execution_count": null,
   "id": "4df67818-57a6-4dc8-816a-887c9ba23477",
   "metadata": {},
   "outputs": [],
   "source": [
    "import matplotlib.pyplot as plt\n",
    "plt.title(\"Títulos de Lionel Messi por club\")\n",
    "plt.xlabel(\"Club\")\n",
    "plt.ylabel(\"Cantidad de títulos\")\n",
    "plt.grid(True)\n",
    "plt.legend(['Data Series'])\n",
    "plt.bar(['Barcelona', 'PSG', 'Inter Miami'], [16, 3, 1,])"
   ]
  },
  {
   "cell_type": "markdown",
   "id": "4f556553-0861-4027-bb06-0e3879ee034f",
   "metadata": {},
   "source": [
    "### Títulos de Messi por club"
   ]
  },
  {
   "cell_type": "markdown",
   "id": "f53f1a2b-b5de-4d9d-a821-909d8a8e9c53",
   "metadata": {},
   "source": [
    "Este gráfico de barras muestra la cantidad de títulos ganados por Cristiano Ronaldo en cada uno de los clubes donde jugó.\n",
    "Se utilizó un gráfico de barras porque es ideal para comparar cantidades entre diferentes categorías.\n",
    "La altura de cada barra representa cuántos títulos obtuvo en ese equipo, lo que permite ver claramente dónde tuvo más éxito."
   ]
  },
  {
   "cell_type": "markdown",
   "id": "9c9bf0fe-d51c-42fd-aaf2-a29f584356e6",
   "metadata": {},
   "source": [
    "# Relacion entre edad y goles por temporada"
   ]
  },
  {
   "cell_type": "code",
   "execution_count": null,
   "id": "0e26880f-7195-4bcf-9dec-50362dae4e02",
   "metadata": {},
   "outputs": [],
   "source": [
    "import matplotlib.pyplot as plt\n",
    "edades = [20, 22, 24, 26, 28, 30, 32, 34, 36, 38]\n",
    "goles = [15, 23, 26, 31, 34, 30, 29, 26, 22, 15]\n",
    "plt.title(\"Relación entre edad y goles por temporada\")\n",
    "plt.xlabel(\"Edad de Messi\")\n",
    "plt.ylabel(\"Goles en la temporada\")\n",
    "plt.grid(True)\n",
    "plt.legend(['Goles por edad'])\n",
    "plt.scatter(edades, goles, color='red')"
   ]
  },
  {
   "cell_type": "markdown",
   "id": "36dcf18b-8f9e-4a5f-befb-3f6198830846",
   "metadata": {},
   "source": [
    "### Relación entre edad y goles por temporada"
   ]
  },
  {
   "cell_type": "markdown",
   "id": "3bc4f16c-d473-4c83-bcf8-3dedec4d2271",
   "metadata": {},
   "source": [
    "Este gráfico de dispersión muestra la relación entre la edad de Lionel Messi y la cantidad de goles que marcó en cada temporada.\n",
    "Se eligió un scatter plot porque es útil para observar cómo una variable (edad) afecta a otra (goles).\n",
    "En este caso, se puede ver que el rendimiento goleador alcanza un pico alrededor de los 28 años, y luego comienza a disminuir."
   ]
  },
  {
   "cell_type": "markdown",
   "id": "a2f7ac08-a4e8-421d-94d8-8c03abffc3ae",
   "metadata": {},
   "source": [
    "# Goles y asistencias por temporada con anotaciones"
   ]
  },
  {
   "cell_type": "code",
   "execution_count": null,
   "id": "cecabfe8-65c4-4615-9b63-489824276eff",
   "metadata": {},
   "outputs": [],
   "source": [
    "import matplotlib.pyplot as plt\n",
    "\n",
    "x = ['2016', '2017', '2018', '2019', '2020', '2021']\n",
    "goles = [35, 42, 30, 28, 25, 22]\n",
    "asistencias = [7, 9, 6, 8, 5, 4]\n",
    "\n",
    "fig, axs = plt.subplots(2, 1)\n",
    "\n",
    "axs[0].plot(x, goles, 'g-o', label='Goles')\n",
    "axs[0].set_title(\"Goles por temporada\")\n",
    "axs[0].set_ylim(0, 50)\n",
    "axs[0].text(1, 42, \"Máximo\")\n",
    "axs[0].legend()\n",
    "axs[0].grid(True)\n",
    "\n",
    "axs[1].plot(x, asistencias, 'r--s', label='Asistencias')\n",
    "axs[1].set_title(\"Asistencias por temporada\")\n",
    "axs[1].set_ylim(0, 15)\n",
    "axs[1].text(2, 10, \"Pico de asistencias\")\n",
    "axs[1].legend()\n",
    "axs[1].grid(True)\n",
    "\n",
    "plt.tight_layout()\n",
    "plt.show()"
   ]
  },
  {
   "cell_type": "markdown",
   "id": "e604b0ae-62ab-4205-979b-143f9ed3fe29",
   "metadata": {},
   "source": [
    "### Goles y asistencias por temporada con anotaciones"
   ]
  },
  {
   "cell_type": "markdown",
   "id": "4c94431b-9602-4fef-a2b7-1c5ededae18c",
   "metadata": {},
   "source": [
    "Este gráfico contiene dos subplots personalizados: el primero muestra los goles por temporada y el segundo las asistencias.\n",
    "Se usaron límites en los ejes y texto agregado para resaltar puntos clave como el máximo de goles y el pico de asistencias.\n",
    "Esta visualización avanzada permite ver ambas métricas en paralelo y resaltar información relevante directamente sobre los datos."
   ]
  },
  {
   "cell_type": "markdown",
   "id": "74054574-b323-4f86-abb5-9a4ac5b8e092",
   "metadata": {},
   "source": [
    "# Distribución de títulos de Cristiano Ronaldo por club"
   ]
  },
  {
   "cell_type": "code",
   "execution_count": null,
   "id": "276bc715-8f98-4cee-9290-622b5889b0f9",
   "metadata": {},
   "outputs": [],
   "source": [
    "import matplotlib.pyplot as plt\n",
    "\n",
    "# Datos ficticios: títulos por club\n",
    "labels = ['Barcelona', 'PSG', 'Inter Miami']\n",
    "titulos = [16, 3, 1]\n",
    "\n",
    "plt.title(\"Distribución de títulos por club\")\n",
    "plt.pie(titulos, labels=labels, autopct='%1.1f%%', startangle=90)\n",
    "plt.axis('equal')\n",
    "plt.show()"
   ]
  },
  {
   "cell_type": "markdown",
   "id": "d4c31ab3-0312-4ec9-9c52-c2d9b572927c",
   "metadata": {},
   "source": [
    "### Distribución de títulos de Lionel Messi por club"
   ]
  },
  {
   "cell_type": "markdown",
   "id": "d9ee15be-7b54-41f5-b651-57bc89585314",
   "metadata": {},
   "source": [
    "Este gráfico de torta representa el porcentaje de títulos que Lionel Messi ha ganado en cada club a lo largo de su carrera.\n",
    "Se eligió este tipo de gráfico porque es ideal para visualizar cómo se distribuye un total entre varias categorías.\n",
    "Real Madrid representa la mayor porción, lo que resalta su etapa más exitosa en cuanto a títulos."
   ]
  },
  {
   "cell_type": "code",
   "execution_count": null,
   "id": "72ac7f64-d0c8-4f95-8cf0-e76e3328341a",
   "metadata": {},
   "outputs": [],
   "source": []
  }
 ],
 "metadata": {
  "kernelspec": {
   "display_name": "Python 3 (ipykernel)",
   "language": "python",
   "name": "python3"
  },
  "language_info": {
   "codemirror_mode": {
    "name": "ipython",
    "version": 3
   },
   "file_extension": ".py",
   "mimetype": "text/x-python",
   "name": "python",
   "nbconvert_exporter": "python",
   "pygments_lexer": "ipython3",
   "version": "3.13.2"
  }
 },
 "nbformat": 4,
 "nbformat_minor": 5
}
